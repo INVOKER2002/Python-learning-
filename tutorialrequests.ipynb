{
 "cells": [
  {
   "cell_type": "code",
   "execution_count": 1,
   "id": "ba660b00",
   "metadata": {},
   "outputs": [],
   "source": [
    "import requests "
   ]
  },
  {
   "cell_type": "code",
   "execution_count": 2,
   "id": "8d462e72",
   "metadata": {},
   "outputs": [],
   "source": [
    "response = requests.get(\"https://httpbin.org/get\")"
   ]
  },
  {
   "cell_type": "code",
   "execution_count": 4,
   "id": "18eb0590",
   "metadata": {},
   "outputs": [
    {
     "name": "stdout",
     "output_type": "stream",
     "text": [
      "{\n",
      "  \"args\": {}, \n",
      "  \"headers\": {\n",
      "    \"Accept\": \"*/*\", \n",
      "    \"Accept-Encoding\": \"gzip, deflate\", \n",
      "    \"Host\": \"httpbin.org\", \n",
      "    \"User-Agent\": \"python-requests/2.32.3\", \n",
      "    \"X-Amzn-Trace-Id\": \"Root=1-684def75-46ed97b3498333ac3a3671fa\"\n",
      "  }, \n",
      "  \"origin\": \"49.36.213.248\", \n",
      "  \"url\": \"https://httpbin.org/get\"\n",
      "}\n",
      "\n",
      "200\n"
     ]
    }
   ],
   "source": [
    "print(response.text)  # Print the content of the response\n",
    "print(response.status_code)  # Print the status code of the response"
   ]
  },
  {
   "cell_type": "markdown",
   "id": "f9da096f",
   "metadata": {},
   "source": [
    "200 is the valid status code"
   ]
  },
  {
   "cell_type": "code",
   "execution_count": 5,
   "id": "d99340d9",
   "metadata": {},
   "outputs": [
    {
     "name": "stdout",
     "output_type": "stream",
     "text": [
      "https://httpbin.org/get?name=John&age=30\n"
     ]
    }
   ],
   "source": [
    "params = {\n",
    "    \"name\": \"John\",\n",
    "    \"age\": 30\n",
    "}\n",
    "response = requests.get(\"https://httpbin.org/get\", params=params)\n",
    "print(response.url)"
   ]
  },
  {
   "cell_type": "code",
   "execution_count": 6,
   "id": "9d39d04f",
   "metadata": {},
   "outputs": [
    {
     "name": "stdout",
     "output_type": "stream",
     "text": [
      "https://httpbin.org/post\n"
     ]
    }
   ],
   "source": [
    "payload = {\n",
    "    \"name\": \"John\",\n",
    "    \"age\": 30\n",
    "}\n",
    "response = requests.post(\"https://httpbin.org/post\", data=payload)\n",
    "print(response.url)"
   ]
  },
  {
   "cell_type": "code",
   "execution_count": 7,
   "id": "6326525a",
   "metadata": {},
   "outputs": [
    {
     "name": "stdout",
     "output_type": "stream",
     "text": [
      "not found\n"
     ]
    }
   ],
   "source": [
    "response = requests.get(\"https://httpbin.org/status/404\")\n",
    "if response.status_code == requests.codes.not_found:\n",
    "    print(\"not found\")\n",
    "else:\n",
    "    print(response.status_code)"
   ]
  },
  {
   "cell_type": "code",
   "execution_count": 8,
   "id": "35287e3c",
   "metadata": {},
   "outputs": [
    {
     "name": "stdout",
     "output_type": "stream",
     "text": [
      "{\n",
      "  \"args\": {}, \n",
      "  \"headers\": {\n",
      "    \"Accept\": \"*/*\", \n",
      "    \"Accept-Encoding\": \"gzip, deflate\", \n",
      "    \"Host\": \"httpbin.org\", \n",
      "    \"User-Agent\": \"custom user agent\", \n",
      "    \"X-Amzn-Trace-Id\": \"Root=1-684df236-7dbc566275fcdf7651d8eec2\"\n",
      "  }, \n",
      "  \"origin\": \"49.36.213.248\", \n",
      "  \"url\": \"https://httpbin.org/get\"\n",
      "}\n",
      "\n"
     ]
    }
   ],
   "source": [
    "headers = {\n",
    "    \"User-Agent\" : \"custom user agent\"\n",
    "}\n",
    "response = requests.get(\"https://httpbin.org/get\", headers=headers)\n",
    "print(response.text)  # Print the JSON content of the response"
   ]
  },
  {
   "cell_type": "code",
   "execution_count": null,
   "id": "85940fcd",
   "metadata": {},
   "outputs": [],
   "source": []
  }
 ],
 "metadata": {
  "kernelspec": {
   "display_name": "Python 3",
   "language": "python",
   "name": "python3"
  },
  "language_info": {
   "codemirror_mode": {
    "name": "ipython",
    "version": 3
   },
   "file_extension": ".py",
   "mimetype": "text/x-python",
   "name": "python",
   "nbconvert_exporter": "python",
   "pygments_lexer": "ipython3",
   "version": "3.13.1"
  }
 },
 "nbformat": 4,
 "nbformat_minor": 5
}
