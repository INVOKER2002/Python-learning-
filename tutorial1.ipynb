{
 "cells": [
  {
   "cell_type": "code",
   "execution_count": 1,
   "id": "80491123",
   "metadata": {},
   "outputs": [
    {
     "name": "stdout",
     "output_type": "stream",
     "text": [
      "shashank\n"
     ]
    }
   ],
   "source": [
    "print(\"shashank\")"
   ]
  },
  {
   "cell_type": "code",
   "execution_count": 2,
   "id": "416b4e48",
   "metadata": {},
   "outputs": [
    {
     "name": "stdout",
     "output_type": "stream",
     "text": [
      "123\n",
      "a= 1234\n"
     ]
    }
   ],
   "source": [
    "print(\"123\")\n",
    "a = 1234\n",
    "print(\"a=\",a)"
   ]
  },
  {
   "cell_type": "code",
   "execution_count": 3,
   "id": "7ba68c5e",
   "metadata": {},
   "outputs": [
    {
     "name": "stdout",
     "output_type": "stream",
     "text": [
      "<class 'int'>\n"
     ]
    }
   ],
   "source": [
    "print(type(a))"
   ]
  },
  {
   "cell_type": "code",
   "execution_count": 4,
   "id": "9e11d9cb",
   "metadata": {},
   "outputs": [
    {
     "name": "stdout",
     "output_type": "stream",
     "text": [
      "5\n"
     ]
    }
   ],
   "source": [
    "a=2\n",
    "b=3\n",
    "print(a+b)"
   ]
  },
  {
   "cell_type": "markdown",
   "id": "dc94436e",
   "metadata": {},
   "source": [
    "python is case sensitive language"
   ]
  },
  {
   "cell_type": "markdown",
   "id": "4fc560d6",
   "metadata": {},
   "source": [
    "keywords cannot be used as variable names in python "
   ]
  },
  {
   "cell_type": "code",
   "execution_count": 5,
   "id": "97189e20",
   "metadata": {},
   "outputs": [
    {
     "name": "stdout",
     "output_type": "stream",
     "text": [
      "-1231.4199999999998\n"
     ]
    }
   ],
   "source": [
    "a = 1234.56\n",
    "b = 3.14\n",
    "print(b-a)\n",
    "#subtraction\n"
   ]
  },
  {
   "cell_type": "code",
   "execution_count": 6,
   "id": "31cb1a76",
   "metadata": {},
   "outputs": [
    {
     "name": "stdout",
     "output_type": "stream",
     "text": [
      "6.25\n"
     ]
    }
   ],
   "source": [
    "a = 2\n",
    "b = 4.25\n",
    "print(a+b)\n",
    "#type conversion by python from integer to float"
   ]
  },
  {
   "cell_type": "code",
   "execution_count": 7,
   "id": "2a95aa5d",
   "metadata": {},
   "outputs": [
    {
     "name": "stdout",
     "output_type": "stream",
     "text": [
      "12\n",
      "<class 'int'>\n"
     ]
    }
   ],
   "source": [
    "a = \"12\"\n",
    "b = int(a)\n",
    "print(b)\n",
    "print(type(b))\n",
    "#type casting by python from string to integer"
   ]
  },
  {
   "cell_type": "code",
   "execution_count": 8,
   "id": "eef3fa15",
   "metadata": {},
   "outputs": [
    {
     "data": {
      "text/plain": [
       "'shashnk'"
      ]
     },
     "execution_count": 8,
     "metadata": {},
     "output_type": "execute_result"
    }
   ],
   "source": [
    "#inputs in python\n",
    "input(\"Enter your name:\")\n"
   ]
  },
  {
   "cell_type": "code",
   "execution_count": 9,
   "id": "b79eb7b1",
   "metadata": {},
   "outputs": [
    {
     "name": "stdout",
     "output_type": "stream",
     "text": [
      "your age is 22 and your year of birth is 2002\n"
     ]
    }
   ],
   "source": [
    "a = input(\"age\")\n",
    "b = input(\"year of birth\")\n",
    "print(\"your age is\",a, \"and your year of birth is\",b)       "
   ]
  },
  {
   "cell_type": "code",
   "execution_count": 10,
   "id": "f5276619",
   "metadata": {},
   "outputs": [
    {
     "name": "stdout",
     "output_type": "stream",
     "text": [
      "Area of the square is: 529.0\n"
     ]
    }
   ],
   "source": [
    "#code for printing the area of a square\n",
    "s = float(input(\"Enter the side of the square:\"))\n",
    "area = s*s\n",
    "print(\"Area of the square is:\",area)"
   ]
  },
  {
   "cell_type": "markdown",
   "id": "51ab9631",
   "metadata": {},
   "source": [
    "escape sequence are the characters in python which hold special meaning to the compiler and perform some special functions \n",
    "like \n",
    "\\n --this is used to create a new line after a print statement"
   ]
  },
  {
   "cell_type": "code",
   "execution_count": 11,
   "id": "b22a481f",
   "metadata": {},
   "outputs": [
    {
     "name": "stdout",
     "output_type": "stream",
     "text": [
      "open\n",
      "close\n",
      "\n",
      " reopen in a new line\n"
     ]
    }
   ],
   "source": [
    "print(\"open\")\n",
    "print(\"close\")\n",
    "print(\"\\n reopen in a new line\")"
   ]
  },
  {
   "cell_type": "code",
   "execution_count": 12,
   "id": "2e8a99e4",
   "metadata": {},
   "outputs": [
    {
     "name": "stdout",
     "output_type": "stream",
     "text": [
      "length of string is 8\n"
     ]
    }
   ],
   "source": [
    "#print length of string in python \n",
    "s = \"shashank\"\n",
    "length = len(s)\n",
    "print(\"length of string is\",length)"
   ]
  },
  {
   "cell_type": "code",
   "execution_count": 13,
   "id": "d5e031a9",
   "metadata": {},
   "outputs": [
    {
     "name": "stdout",
     "output_type": "stream",
     "text": [
      "shashanksingh\n"
     ]
    }
   ],
   "source": [
    "#string concatenation\n",
    "s = \"shashank\"\n",
    "s2 = \"singh\"\n",
    "print(s+s2)"
   ]
  },
  {
   "cell_type": "markdown",
   "id": "77aa8cd3",
   "metadata": {},
   "source": [
    "string indexes in pythoon start from zero just like java \n",
    "also , strings cannot be manipulated through the index numbers directly as strings are immutable "
   ]
  },
  {
   "cell_type": "code",
   "execution_count": 15,
   "id": "d9990778",
   "metadata": {},
   "outputs": [
    {
     "name": "stdout",
     "output_type": "stream",
     "text": [
      "sliced string is shash\n"
     ]
    }
   ],
   "source": [
    "#string slicing in python\n",
    "s = \"shashank\"\n",
    "sliced = s[0:5]\n",
    "print(\"sliced string is\",sliced)\n",
    "#string slicing in python"
   ]
  },
  {
   "cell_type": "markdown",
   "id": "138b7dc8",
   "metadata": {},
   "source": [
    "string slicing in python is basically using parts of a string and is an integral part of string manipulation"
   ]
  },
  {
   "cell_type": "markdown",
   "id": "de6ee3dc",
   "metadata": {},
   "source": [
    "we can also count indexes bckwaeds in python i.e negatively "
   ]
  },
  {
   "cell_type": "code",
   "execution_count": 19,
   "id": "16b28308",
   "metadata": {},
   "outputs": [
    {
     "name": "stdout",
     "output_type": "stream",
     "text": [
      "ashan\n"
     ]
    }
   ],
   "source": [
    "s = \"shashank\"\n",
    "print(s[-6:-1])"
   ]
  },
  {
   "cell_type": "markdown",
   "id": "eec3e1fd",
   "metadata": {},
   "source": [
    "string functions :\n",
    "1. endswith()\n",
    "2. capitalize()\n",
    "3. replace()\n",
    "4. find()\n",
    "5. count()\n",
    "6. upper() -uppercase conversion\n",
    "7. lower() - lowercase conversion"
   ]
  },
  {
   "cell_type": "code",
   "execution_count": null,
   "id": "23d58814",
   "metadata": {},
   "outputs": [
    {
     "name": "stdout",
     "output_type": "stream",
     "text": [
      "True\n",
      "xhaxhank\n",
      "-1\n",
      "2\n",
      "shashank\n",
      "SHASHANK\n",
      "shashank\n"
     ]
    }
   ],
   "source": [
    "s = \"shashank\"\n",
    "print(s.endswith(\"ank\"))\n",
    "print(s.replace(\"s\",\"x\"))\n",
    "print(s.find(\"z\")) #finds the first index of occurence of a character or substring\n",
    "print(s.count(\"ha\"))\n",
    "s.capitalize()\n",
    "print(s)\n",
    "print(s.upper())\n",
    "print(s.lower())"
   ]
  },
  {
   "cell_type": "code",
   "execution_count": 22,
   "id": "16d059cb",
   "metadata": {},
   "outputs": [
    {
     "name": "stdout",
     "output_type": "stream",
     "text": [
      "length of your first name is 8\n"
     ]
    }
   ],
   "source": [
    "#wap to take users first name and print its length\n",
    "s = input(\"Enter your first name:\")\n",
    "length = len(s)\n",
    "print(\"length of your first name is\",length)"
   ]
  },
  {
   "cell_type": "code",
   "execution_count": 24,
   "id": "4991cc09",
   "metadata": {},
   "outputs": [
    {
     "name": "stdout",
     "output_type": "stream",
     "text": [
      "8\n"
     ]
    }
   ],
   "source": [
    "#find count of $\n",
    "s = input(\"enter the string \")\n",
    "print(s.count(\"$\"))"
   ]
  },
  {
   "cell_type": "code",
   "execution_count": 38,
   "id": "135b74f5",
   "metadata": {},
   "outputs": [
    {
     "name": "stdout",
     "output_type": "stream",
     "text": [
      "x is greater than 20\n"
     ]
    }
   ],
   "source": [
    "x = int(input(\"enter x\"))\n",
    "if(x>20):\n",
    "    print(\"x is greater than 20\")\n",
    "elif(x<20 & x>0):\n",
    "    print(\"x is less than 20\")\n",
    "elif(x<0):\n",
    "    print(\" x is negative\")"
   ]
  },
  {
   "cell_type": "markdown",
   "id": "435d96af",
   "metadata": {},
   "source": [
    "lists in python \n",
    "list is kind of single variable that can store multiple values \n",
    "lists can contain variables of multiple types \n",
    "* lists are mutable \n",
    "* strings in python are immutable "
   ]
  },
  {
   "cell_type": "code",
   "execution_count": 40,
   "id": "4dccd2d2",
   "metadata": {},
   "outputs": [
    {
     "name": "stdout",
     "output_type": "stream",
     "text": [
      "noida\n",
      "shashank\n"
     ]
    }
   ],
   "source": [
    "l1 = [\"shashank\",\"singh\",28122002,\"noida\"]\n",
    "print(l1[3])\n",
    "\n",
    "print(l1[0])"
   ]
  },
  {
   "cell_type": "code",
   "execution_count": 41,
   "id": "05ae9155",
   "metadata": {},
   "outputs": [
    {
     "name": "stdout",
     "output_type": "stream",
     "text": [
      "['shashank', 'singh']\n",
      "this is list slicing\n"
     ]
    }
   ],
   "source": [
    "print(l1[0:2])\n",
    "print(\"this is list slicing\")"
   ]
  },
  {
   "cell_type": "markdown",
   "id": "4ee864f1",
   "metadata": {},
   "source": [
    "list slicing also follows the same principles like strings \n",
    "it can also take negtive values as indexes "
   ]
  },
  {
   "cell_type": "markdown",
   "id": "b8076ebd",
   "metadata": {},
   "source": [
    "list functions \n",
    "1. list.sort() -sorts in ascending order \n",
    "2. list.append() - adds one element in the end \n",
    "3. list.sort(reverse=True) - sorts the list in reverse order \n",
    "4. list.reverse() --reverses list\n",
    "5. list.insert(index,element) --inserts elements at the given index "
   ]
  },
  {
   "cell_type": "code",
   "execution_count": null,
   "id": "ca366c28",
   "metadata": {},
   "outputs": [
    {
     "name": "stdout",
     "output_type": "stream",
     "text": [
      "[1, 2, 3, 4, 5, 6, 7, 8, 9, 10]\n",
      "[10, 9, 8, 7, 6, 5, 4, 3, 2, 1]\n",
      "[1, 2, 3, 4, 5, 6, 7, 8, 9, 10]\n",
      "[1, 2, 100, 3, 4, 5, 6, 7, 8, 9, 10]\n",
      "[1, 2, 3, 4, 5, 6, 7, 8, 9, 10]\n",
      "[1, 2, 4, 5, 6, 7, 8, 9, 10]\n",
      "[]\n"
     ]
    }
   ],
   "source": [
    "list = [1,2,3,4,5,6,7,8,9]\n",
    "list.append(10)\n",
    "print(list)\n",
    "list.sort(reverse=True)\n",
    "print(list)\n",
    "list.reverse()\n",
    "print(list)\n",
    "list.insert(2,100)\n",
    "print(list)\n",
    "list.remove(100)\n",
    "print(list)\n",
    "list.pop(2) #removes the value at index specified \n",
    "print(list)\n",
    "list.clear()\n",
    "print(list)\n"
   ]
  },
  {
   "cell_type": "markdown",
   "id": "c4e3e87b",
   "metadata": {},
   "source": [
    "Tuple is a built in data type that lets us create an immutable sequence of values\n",
    "basically tuple is immutable and list is mutable \n",
    "\n",
    "and instead of square brackets we use normal brackets to create a tuple "
   ]
  },
  {
   "cell_type": "code",
   "execution_count": 44,
   "id": "2cdc9f91",
   "metadata": {},
   "outputs": [
    {
     "name": "stdout",
     "output_type": "stream",
     "text": [
      "(1, 2, 3)\n",
      "<class 'tuple'>\n"
     ]
    }
   ],
   "source": [
    "tup = (1,2,3)\n",
    "print(tup)\n",
    "print(type(tup))"
   ]
  },
  {
   "cell_type": "markdown",
   "id": "90c28a41",
   "metadata": {},
   "source": [
    "functions in tuples \n",
    "tup.index() -- counts index of first occurence \n",
    "tup.count() -- counts total occurences "
   ]
  },
  {
   "cell_type": "markdown",
   "id": "0c74349e",
   "metadata": {},
   "source": [
    "dictionaries store data in python in key value pairs"
   ]
  },
  {
   "cell_type": "code",
   "execution_count": 8,
   "id": "0c8466fa",
   "metadata": {},
   "outputs": [
    {
     "name": "stdout",
     "output_type": "stream",
     "text": [
      "<class 'dict'>\n",
      "['shashank', 'adarsh', 'shraddha']\n",
      "{'name': ['shashank', 'adarsh', 'shraddha'], 'age': 21, 'hobby': 'coding'}\n"
     ]
    }
   ],
   "source": [
    "dictionary = {\n",
    "    \"name\":[\"shashank\",\"adarsh\",\"shraddha\"],\n",
    "    \"age\":21,\n",
    "    \"hobby\":\"coding\"\n",
    "}\n",
    "print(type(dictionary))\n",
    "print(dictionary[\"name\"])\n",
    "print(dictionary)"
   ]
  },
  {
   "cell_type": "markdown",
   "id": "25f92950",
   "metadata": {},
   "source": [
    "dictionaries are unordederd , mutable and do not accept duplicate keys \n",
    "dictionaries do not have indexes i.e  they are unordered\n",
    "nested dictionaries also is possible in python "
   ]
  },
  {
   "cell_type": "code",
   "execution_count": 13,
   "id": "d53524a3",
   "metadata": {},
   "outputs": [
    {
     "name": "stdout",
     "output_type": "stream",
     "text": [
      "{'physics': 'A+', 'maths': 'A+', 'chemistry': 'A+', 'biology': 'A+'}\n",
      "A+\n",
      "{'name': ['shashank', 'adarsh', 'shraddha'], 'age': 21, 'hobby': 'coding', 'subjects': {'physics': 'A+', 'maths': 'A+', 'chemistry': 'A+', 'biology': 'A+'}}\n"
     ]
    }
   ],
   "source": [
    "ary = {\n",
    "    \"name\":[\"shashank\",\"adarsh\",\"shraddha\"],\n",
    "    \"age\":21,\n",
    "    \"hobby\":\"coding\",\n",
    "    \"subjects\" : {\n",
    "        \"physics\":\"A+\",\n",
    "        \"maths\":\"A+\",\n",
    "        \"chemistry\":\"A+\",\n",
    "        \"biology\":\"A+\"\n",
    "    }\n",
    "}\n",
    "print(ary[\"subjects\"])\n",
    "print(ary[\"subjects\"][\"physics\"])\n",
    "print(ary)\n"
   ]
  },
  {
   "cell_type": "markdown",
   "id": "12b0402c",
   "metadata": {},
   "source": [
    "dictionary also has functions just like lists and tuples in python \n",
    ".keys() //gives all keys \n",
    ".values() //gives all values\n",
    ".items() //gives all key value pairs as tuples \n",
    ".get(\"key\") //returns the key according to value \n",
    ".update(newItem) //updates the dictionary with new item "
   ]
  },
  {
   "cell_type": "code",
   "execution_count": null,
   "id": "f8b071d0",
   "metadata": {},
   "outputs": [
    {
     "name": "stdout",
     "output_type": "stream",
     "text": [
      "dict_values([['shashank', 'adarsh', 'shraddha'], 21, 'coding', {'physics': 'A+', 'maths': 'A+', 'chemistry': 'A+', 'biology': 'A+'}])\n",
      "dict_items([('name', ['shashank', 'adarsh', 'shraddha']), ('age', 21), ('hobby', 'coding'), ('subjects', {'physics': 'A+', 'maths': 'A+', 'chemistry': 'A+', 'biology': 'A+'})])\n",
      "{'physics': 'A+', 'maths': 'A+', 'chemistry': 'A+', 'biology': 'A+'}\n",
      "dict_keys(['name', 'age', 'hobby', 'subjects'])\n"
     ]
    }
   ],
   "source": [
    "print(ary.values())\n",
    "print(ary.items())   #returns key value pairs as tuples\n",
    "print(ary.get(\"subjects\"))\n",
    "print(ary.keys())"
   ]
  },
  {
   "cell_type": "markdown",
   "id": "90cc148b",
   "metadata": {},
   "source": [
    "sets in python is a collection oof unordered items \n",
    "each item in the set must be imuttable and unique\n",
    "we cannot store lst and dictionaries in a set since they are mutable \n",
    "\n",
    "each element in the set must be unique \n",
    "set ignores duplicate items \n",
    "\n",
    "\n",
    "set functions:\n",
    "set.add() \n",
    "set.remove()\n",
    "set.clear()\n",
    "set.pop()\n"
   ]
  },
  {
   "cell_type": "code",
   "execution_count": 15,
   "id": "28de0470",
   "metadata": {},
   "outputs": [
    {
     "name": "stdout",
     "output_type": "stream",
     "text": [
      "{1, 2, 3, 5, 6, 7, 'shashank'}\n",
      "<class 'set'>\n"
     ]
    }
   ],
   "source": [
    "collection = { 1,2,3,1,1,1,5,6,7,7,\"shashank\"}\n",
    "print(collection)\n",
    "print(type(collection))"
   ]
  },
  {
   "cell_type": "code",
   "execution_count": 17,
   "id": "483e44ba",
   "metadata": {},
   "outputs": [
    {
     "name": "stdout",
     "output_type": "stream",
     "text": [
      "<class 'dict'>\n",
      "<class 'set'>\n"
     ]
    }
   ],
   "source": [
    "coll = {\n",
    "\n",
    "}\n",
    "print(type(coll))\n",
    "coll=set()\n",
    "print(type(coll))"
   ]
  },
  {
   "cell_type": "code",
   "execution_count": 21,
   "id": "8ceec89b",
   "metadata": {},
   "outputs": [
    {
     "name": "stdout",
     "output_type": "stream",
     "text": [
      "a piece of furniture\n",
      "{'table': 'a piece of furniture', 'list of facts and figurescat': 'a feral animal', 'dog': 'a domestic animal'}\n"
     ]
    }
   ],
   "source": [
    "#dictionary wiith words as keys and their meanings as values\n",
    "dictionary = {\n",
    "    \"table\":\"a piece of furniture\" , \"list of facts and figures\" \n",
    "    \"cat\" : \"a feral animal\",\n",
    "    \"dog\" : \"a domestic animal\",\n",
    "}\n",
    "print(dictionary[\"table\"])\n",
    "print(dictionary)"
   ]
  },
  {
   "cell_type": "code",
   "execution_count": 24,
   "id": "d377afd7",
   "metadata": {},
   "outputs": [
    {
     "name": "stdout",
     "output_type": "stream",
     "text": [
      "total number of classrooms needed in school is  6\n"
     ]
    }
   ],
   "source": [
    "subjects = { \"python\" , \"java\" , \"c++\" , \"javascript\" , \"html\" , \"css\"}\n",
    "print(\"total number of classrooms needed in school is \",len(subjects))"
   ]
  },
  {
   "cell_type": "code",
   "execution_count": null,
   "id": "0e00119b",
   "metadata": {},
   "outputs": [
    {
     "name": "stdout",
     "output_type": "stream",
     "text": [
      "2\n"
     ]
    }
   ],
   "source": [
    "#wap to store 9 and 9.0 in a set and print the set\n",
    "s = {9,\"9.0\"}\n",
    "print(len(s))\n",
    "#one of them is stores as string and other as integer so it is not a duplicate"
   ]
  },
  {
   "cell_type": "code",
   "execution_count": null,
   "id": "828c94af",
   "metadata": {},
   "outputs": [
    {
     "name": "stdout",
     "output_type": "stream",
     "text": [
      "hello world\n",
      "hello world\n",
      "hello world\n",
      "hello world\n",
      "hello world\n"
     ]
    }
   ],
   "source": [
    "a = \"hello world\"\n",
    "x=1\n",
    "while(x <= 5):\n",
    "    print(a)\n",
    "    x+=1\n",
    "    "
   ]
  },
  {
   "cell_type": "code",
   "execution_count": 35,
   "id": "26208228",
   "metadata": {},
   "outputs": [
    {
     "name": "stdout",
     "output_type": "stream",
     "text": [
      "17\n",
      "34\n",
      "51\n",
      "68\n",
      "85\n",
      "102\n",
      "119\n",
      "136\n",
      "153\n",
      "170\n"
     ]
    }
   ],
   "source": [
    "y = 1\n",
    "while(y<=10):\n",
    "    print(y*17)\n",
    "    y+=1"
   ]
  },
  {
   "cell_type": "code",
   "execution_count": 39,
   "id": "4418c295",
   "metadata": {},
   "outputs": [
    {
     "name": "stdout",
     "output_type": "stream",
     "text": [
      "27\n",
      "count of 9 is 3\n",
      "end of program\n"
     ]
    }
   ],
   "source": [
    "nums = [1,2,3,4,5,6,7,8,9,1,2,3,4,5,6,7,8,9,1,2,3,4,5,6,7,8,9]\n",
    "print(len(nums))\n",
    "x = int(input(\"enter the desired number\"))\n",
    "k = 0\n",
    "count = 0\n",
    "while(k<len(nums)):\n",
    "    if(nums[k] == x):\n",
    "        count+=1\n",
    "    k+=1\n",
    "        \n",
    "print(\"count of\",x,\"is\",count)\n",
    "print(\"end of program\")"
   ]
  },
  {
   "cell_type": "code",
   "execution_count": 42,
   "id": "94c24919",
   "metadata": {},
   "outputs": [
    {
     "name": "stdout",
     "output_type": "stream",
     "text": [
      "not divisible by 2-- 1\n",
      "divisible by 2-- 2\n",
      "not divisible by 2-- 3\n",
      "divisible by 2-- 4\n",
      "not divisible by 2-- 5\n",
      "divisible by 2-- 6\n",
      "not divisible by 2-- 7\n",
      "divisible by 2-- 8\n",
      "not divisible by 2-- 9\n",
      "end of for loop\n"
     ]
    }
   ],
   "source": [
    "l = [1,2,3,4,5,6,7,8,9]\n",
    "for i in l:\n",
    "    if(i%2==0):\n",
    "        print(\"divisible by 2--\",i)\n",
    "    else:\n",
    "        print(\"not divisible by 2--\",i)\n",
    "else:\n",
    "    print(\"end of for loop\")\n",
    "    #for loop with if else and else sttatements\n"
   ]
  },
  {
   "cell_type": "code",
   "execution_count": 45,
   "id": "03483247",
   "metadata": {},
   "outputs": [
    {
     "name": "stdout",
     "output_type": "stream",
     "text": [
      "not found o at h\n",
      "found o at o\n",
      "not found o at j\n",
      "found o at o\n",
      "not found o at n\n",
      "found o at o\n",
      "end of for loop\n"
     ]
    }
   ],
   "source": [
    "str = input(\"enter a string\")\n",
    "for c in str:\n",
    "    if(c==\"o\"):\n",
    "        print(\"found o at\",c)\n",
    "    else:\n",
    "        print(\"not found o at\",c)\n",
    "else:\n",
    "    print(\"end of for loop\")\n",
    "    #for loop with if else and else sttatements"
   ]
  },
  {
   "cell_type": "code",
   "execution_count": 46,
   "id": "d8cd26ee",
   "metadata": {},
   "outputs": [
    {
     "name": "stdout",
     "output_type": "stream",
     "text": [
      "o\n"
     ]
    }
   ],
   "source": [
    "print(str[5])"
   ]
  },
  {
   "cell_type": "code",
   "execution_count": 48,
   "id": "1e6bffaf",
   "metadata": {},
   "outputs": [
    {
     "name": "stdout",
     "output_type": "stream",
     "text": [
      "2\n",
      "4\n",
      "6\n",
      "8\n"
     ]
    }
   ],
   "source": [
    "for i in range(2,10,2):\n",
    "    print(i)"
   ]
  },
  {
   "cell_type": "code",
   "execution_count": 50,
   "id": "b6d280d9",
   "metadata": {},
   "outputs": [
    {
     "name": "stdout",
     "output_type": "stream",
     "text": [
      "sum of first 89 numbers is 3916\n"
     ]
    }
   ],
   "source": [
    "n = int(input(\"enter the number \"))\n",
    "i=0 \n",
    "sum = 0\n",
    "while(i<n):\n",
    "    sum+=i\n",
    "    i+=1\n",
    "print(\"sum of first\",n,\"numbers is\",sum)"
   ]
  },
  {
   "cell_type": "code",
   "execution_count": 53,
   "id": "77842e62",
   "metadata": {},
   "outputs": [
    {
     "name": "stdout",
     "output_type": "stream",
     "text": [
      "factorial of 8 is 40320\n"
     ]
    }
   ],
   "source": [
    "n = int(input(\"enter the number\"))\n",
    "p = 1\n",
    "for i in range(1,n+1):\n",
    "    p*=i\n",
    "print(\"factorial of\",n,\"is\",p)"
   ]
  },
  {
   "cell_type": "code",
   "execution_count": null,
   "id": "872dc9b3",
   "metadata": {},
   "outputs": [
    {
     "name": "stdout",
     "output_type": "stream",
     "text": [
      "12\n",
      "30\n"
     ]
    }
   ],
   "source": [
    "#function definintion in python\n",
    "def calcsum(a,b):\n",
    "    return a+b\n",
    "\n",
    "x = calcsum(5,7)\n",
    "print(x)\n",
    "y = calcsum(10,20)\n",
    "print(y)"
   ]
  },
  {
   "cell_type": "code",
   "execution_count": 57,
   "id": "751115ce",
   "metadata": {},
   "outputs": [
    {
     "name": "stdout",
     "output_type": "stream",
     "text": [
      "hello world\n"
     ]
    }
   ],
   "source": [
    "def hello():\n",
    "    print(\"hello world\")\n",
    "\n",
    "hello()"
   ]
  },
  {
   "cell_type": "code",
   "execution_count": 60,
   "id": "812e7d42",
   "metadata": {},
   "outputs": [
    {
     "name": "stdout",
     "output_type": "stream",
     "text": [
      "length of list is 3\n"
     ]
    }
   ],
   "source": [
    "list = [input(\"enter the name\"),input(\"enter the name\"),input(\"enter the name\")]    \n",
    "\n",
    "def length(list):\n",
    "    print(\"length of list is\",len(list))\n",
    "\n",
    "length(list)\n",
    "\n"
   ]
  },
  {
   "cell_type": "code",
   "execution_count": 62,
   "id": "dd7a6624",
   "metadata": {},
   "outputs": [
    {
     "name": "stdout",
     "output_type": "stream",
     "text": [
      "362880\n"
     ]
    }
   ],
   "source": [
    "#recursion in python\n",
    "def factorial(n):\n",
    "    if(n==0 or n==1):\n",
    "        return 1\n",
    "    else:\n",
    "        return n * factorial(n-1)\n",
    "    \n",
    "print(factorial(int(input(\"enter the number\"))))"
   ]
  },
  {
   "cell_type": "code",
   "execution_count": 76,
   "id": "49d7dd75",
   "metadata": {},
   "outputs": [
    {
     "name": "stdout",
     "output_type": "stream",
     "text": [
      "shashank singh line 1 \n",
      "shashank singh line 2\n",
      "<class 'str'>\n"
     ]
    }
   ],
   "source": [
    "f = open(\"demo.txt\",\"r\")\n",
    "data = f.read()\n",
    "print(data)\n",
    "print(type(data))\n",
    "f.close()"
   ]
  },
  {
   "cell_type": "code",
   "execution_count": 79,
   "id": "33af81fb",
   "metadata": {},
   "outputs": [
    {
     "name": "stdout",
     "output_type": "stream",
     "text": [
      "hello world\n"
     ]
    }
   ],
   "source": [
    "f = open(\"demo2.txt\",\"w\")\n",
    "f.write(\"hello world\")\n",
    "f = open(\"demo2.txt\",\"r\")\n",
    "data = f.read()\n",
    "print(data)\n",
    "f.close()"
   ]
  },
  {
   "cell_type": "code",
   "execution_count": 80,
   "id": "fb65cf86",
   "metadata": {},
   "outputs": [
    {
     "name": "stdout",
     "output_type": "stream",
     "text": [
      "this text file will be appended by python \n",
      "\n",
      " shashank singh appeneded this\n"
     ]
    }
   ],
   "source": [
    "f = open(\"demo3.txt\",\"a\")\n",
    "f.write(\"\\n shashank singh appeneded this\")\n",
    "f.close()\n",
    "f = open(\"demo3.txt\",\"r\")\n",
    "data = f.read()\n",
    "print(data)\n",
    "f.close()"
   ]
  },
  {
   "cell_type": "code",
   "execution_count": 84,
   "id": "40e5db96",
   "metadata": {},
   "outputs": [
    {
     "name": "stdout",
     "output_type": "stream",
     "text": [
      "this text file will be appended by python \n",
      "\n",
      " shashank singh appeneded this\n",
      "\n",
      " shashank singh appeneded this a second time\n"
     ]
    }
   ],
   "source": [
    "with open(\"demo3.txt\",\"a\")  as f:\n",
    "    f.write(\"\\n shashank singh appeneded this a second time\")\n",
    "f = open(\"demo3.txt\",\"r\")\n",
    "data = f.read()\n",
    "print(data)\n",
    "f.close()"
   ]
  },
  {
   "cell_type": "code",
   "execution_count": 85,
   "id": "59dc52a0",
   "metadata": {},
   "outputs": [],
   "source": [
    "import os \n",
    "os.remove(\"demo4.txt\")\n"
   ]
  },
  {
   "cell_type": "code",
   "execution_count": null,
   "id": "efc1d79c",
   "metadata": {},
   "outputs": [],
   "source": []
  }
 ],
 "metadata": {
  "kernelspec": {
   "display_name": "Python 3",
   "language": "python",
   "name": "python3"
  },
  "language_info": {
   "codemirror_mode": {
    "name": "ipython",
    "version": 3
   },
   "file_extension": ".py",
   "mimetype": "text/x-python",
   "name": "python",
   "nbconvert_exporter": "python",
   "pygments_lexer": "ipython3",
   "version": "3.13.1"
  }
 },
 "nbformat": 4,
 "nbformat_minor": 5
}
