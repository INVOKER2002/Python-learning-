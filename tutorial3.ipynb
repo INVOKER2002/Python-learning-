{
 "cells": [
  {
   "cell_type": "code",
   "execution_count": 1,
   "id": "666c52fe",
   "metadata": {},
   "outputs": [],
   "source": [
    "import numpy as np "
   ]
  },
  {
   "cell_type": "code",
   "execution_count": 4,
   "id": "e327c5a3",
   "metadata": {},
   "outputs": [
    {
     "name": "stdout",
     "output_type": "stream",
     "text": [
      "3\n",
      "[2, 3]\n"
     ]
    }
   ],
   "source": [
    "a = [1, 2, 3]\n",
    "print(a[2])\n",
    "print(a[1:])"
   ]
  },
  {
   "cell_type": "code",
   "execution_count": 5,
   "id": "69ce0918",
   "metadata": {},
   "outputs": [
    {
     "name": "stdout",
     "output_type": "stream",
     "text": [
      "[1 2 3]\n",
      "<class 'numpy.ndarray'>\n"
     ]
    }
   ],
   "source": [
    "b = np.array([1,2,3])\n",
    "print(b)\n",
    "print(type(b))"
   ]
  },
  {
   "cell_type": "code",
   "execution_count": 7,
   "id": "9136fbd6",
   "metadata": {},
   "outputs": [
    {
     "name": "stdout",
     "output_type": "stream",
     "text": [
      "This is a function with the same name as a built-in function.\n"
     ]
    }
   ],
   "source": [
    "def printx():\n",
    "    print(\"This is a function with the same name as a built-in function.\")\n",
    "    \n",
    "printx()\n",
    "#function in python can  be defined with out defining the return type unlike in java "
   ]
  },
  {
   "cell_type": "code",
   "execution_count": 9,
   "id": "c1c52452",
   "metadata": {},
   "outputs": [
    {
     "name": "stdout",
     "output_type": "stream",
     "text": [
      "[[1 2 3]\n",
      " [4 5 6]\n",
      " [7 8 9]]\n"
     ]
    }
   ],
   "source": [
    "c = np.array([[1,2,3],[4,5,6],[7,8,9]])\n",
    "print(c)"
   ]
  },
  {
   "cell_type": "code",
   "execution_count": 10,
   "id": "6b184fb6",
   "metadata": {},
   "outputs": [
    {
     "name": "stdout",
     "output_type": "stream",
     "text": [
      "(3, 3)\n"
     ]
    }
   ],
   "source": [
    "print(c.shape)"
   ]
  },
  {
   "cell_type": "code",
   "execution_count": 11,
   "id": "1c73646d",
   "metadata": {},
   "outputs": [
    {
     "data": {
      "text/plain": [
       "2"
      ]
     },
     "execution_count": 11,
     "metadata": {},
     "output_type": "execute_result"
    }
   ],
   "source": [
    "c.ndim"
   ]
  },
  {
   "cell_type": "code",
   "execution_count": 12,
   "id": "f5f76d3b",
   "metadata": {},
   "outputs": [
    {
     "data": {
      "text/plain": [
       "9"
      ]
     },
     "execution_count": 12,
     "metadata": {},
     "output_type": "execute_result"
    }
   ],
   "source": [
    "c.size"
   ]
  },
  {
   "cell_type": "code",
   "execution_count": 14,
   "id": "8e0f0781",
   "metadata": {},
   "outputs": [
    {
     "data": {
      "text/plain": [
       "dtype('int64')"
      ]
     },
     "execution_count": 14,
     "metadata": {},
     "output_type": "execute_result"
    }
   ],
   "source": [
    "c.dtype"
   ]
  },
  {
   "cell_type": "code",
   "execution_count": 25,
   "id": "400e8bc4",
   "metadata": {},
   "outputs": [
    {
     "name": "stdout",
     "output_type": "stream",
     "text": [
      "<U21\n",
      "shashank\n",
      "<U1\n"
     ]
    }
   ],
   "source": [
    "x = np.array([1,\"shashank\",2])\n",
    "print(x.dtype)\n",
    "print(x[1])\n",
    "print(x[0].dtype)"
   ]
  },
  {
   "cell_type": "code",
   "execution_count": 26,
   "id": "c141a771",
   "metadata": {},
   "outputs": [
    {
     "name": "stdout",
     "output_type": "stream",
     "text": [
      "float32\n",
      "5.0\n",
      "float32\n"
     ]
    }
   ],
   "source": [
    "x = np.array([1,\"5\",2],dtype=np.float32)\n",
    "print(x.dtype)\n",
    "print(x[1])\n",
    "print(x[0].dtype)"
   ]
  },
  {
   "cell_type": "markdown",
   "id": "ed8bf677",
   "metadata": {},
   "source": [
    "focus on one data type at a time in numpy beacuase of we mix up too many data types ata the same time then we might go back to the traditional dynamically typed python "
   ]
  },
  {
   "cell_type": "code",
   "execution_count": 27,
   "id": "b33997ff",
   "metadata": {},
   "outputs": [],
   "source": [
    "a = np.full((1,2),5)"
   ]
  },
  {
   "cell_type": "code",
   "execution_count": 28,
   "id": "77693c30",
   "metadata": {},
   "outputs": [
    {
     "name": "stdout",
     "output_type": "stream",
     "text": [
      "[[5 5]]\n",
      "(1, 2)\n",
      "2\n",
      "2\n"
     ]
    }
   ],
   "source": [
    "print(a)\n",
    "print(a.shape)\n",
    "print(a.ndim)\n",
    "print(a.size)"
   ]
  },
  {
   "cell_type": "code",
   "execution_count": 29,
   "id": "01de14fd",
   "metadata": {},
   "outputs": [],
   "source": [
    "a = np.empty((2,3))"
   ]
  },
  {
   "cell_type": "code",
   "execution_count": 31,
   "id": "7cefb00c",
   "metadata": {},
   "outputs": [
    {
     "name": "stdout",
     "output_type": "stream",
     "text": [
      "[[1.35113356e-311 1.35126290e-311 6.95204990e-310]\n",
      " [0.00000000e+000 1.35109651e-311 7.56571288e-307]]\n"
     ]
    }
   ],
   "source": [
    "print(a)\n",
    "#value reserved in the array created using the empty function i.e it creates and empty array \n"
   ]
  },
  {
   "cell_type": "code",
   "execution_count": 32,
   "id": "1ccedc14",
   "metadata": {},
   "outputs": [
    {
     "name": "stdout",
     "output_type": "stream",
     "text": [
      "[ 0 10 20 30 40 50 60 70 80 90]\n"
     ]
    }
   ],
   "source": [
    "x_values = np.arange(0,100,10)\n",
    "print(x_values)"
   ]
  },
  {
   "cell_type": "code",
   "execution_count": 35,
   "id": "21a82365",
   "metadata": {},
   "outputs": [
    {
     "name": "stdout",
     "output_type": "stream",
     "text": [
      "[  0.          11.11111111  22.22222222  33.33333333  44.44444444\n",
      "  55.55555556  66.66666667  77.77777778  88.88888889 100.        ]\n"
     ]
    }
   ],
   "source": [
    "x_values=np.linspace(0,100,10)\n",
    "print(x_values)\n",
    "#prints the number of values on the specified range but the values are evenly distributed "
   ]
  },
  {
   "cell_type": "code",
   "execution_count": 42,
   "id": "177179da",
   "metadata": {},
   "outputs": [
    {
     "name": "stdout",
     "output_type": "stream",
     "text": [
      "nan\n",
      "inf\n",
      "nan\n",
      "<class 'float'>\n"
     ]
    }
   ],
   "source": [
    "print(np.nan)\n",
    "print(np.inf)\n",
    "k = np.nan\n",
    "print(k)\n",
    "print(type(k))"
   ]
  },
  {
   "cell_type": "code",
   "execution_count": 43,
   "id": "bcea14fc",
   "metadata": {},
   "outputs": [
    {
     "name": "stdout",
     "output_type": "stream",
     "text": [
      "True\n"
     ]
    },
    {
     "name": "stderr",
     "output_type": "stream",
     "text": [
      "C:\\Users\\boyas\\AppData\\Local\\Temp\\ipykernel_18904\\773704945.py:1: RuntimeWarning: invalid value encountered in sqrt\n",
      "  k = np.sqrt(-1)\n"
     ]
    }
   ],
   "source": [
    "k = np.sqrt(-1)\n",
    "print(np.isnan(k))"
   ]
  },
  {
   "cell_type": "code",
   "execution_count": 53,
   "id": "76d60653",
   "metadata": {},
   "outputs": [
    {
     "name": "stdout",
     "output_type": "stream",
     "text": [
      "[1, 2, 3, 4, 5, 1, 2, 3, 4, 5, 1, 2, 3, 4, 5, 1, 2, 3, 4, 5, 1, 2, 3, 4, 5]\n",
      "[ 5 10 15 20 25]\n"
     ]
    }
   ],
   "source": [
    "#performing mathematical opertions using numpy arrays \n",
    "l1 = [1,2,3,4,5]\n",
    "l2 = [6,7,8,9,10]\n",
    "\n",
    "a1 = np.array(l1)\n",
    "a2 = np.array(l2)\n",
    "\n",
    "print(l1*5)\n",
    "print(a1*5)"
   ]
  },
  {
   "cell_type": "code",
   "execution_count": 57,
   "id": "50c0c460",
   "metadata": {},
   "outputs": [
    {
     "name": "stdout",
     "output_type": "stream",
     "text": [
      "[-5 -5 -5 -5 -5]\n",
      "[ 7  9 11 13 15]\n",
      "[5 5 5 5 5]\n"
     ]
    }
   ],
   "source": [
    "print(a1 - a2)\n",
    "print(a1 + a2)\n",
    "print(a2-a1)"
   ]
  },
  {
   "cell_type": "markdown",
   "id": "deba952f",
   "metadata": {},
   "source": [
    "NUMPY ARRAY FUNCTIONS BELOW "
   ]
  },
  {
   "cell_type": "code",
   "execution_count": 65,
   "id": "1b5cd8b4",
   "metadata": {},
   "outputs": [
    {
     "name": "stdout",
     "output_type": "stream",
     "text": [
      "[1 2 3 4]\n",
      "[1 4 2 3 4]\n"
     ]
    }
   ],
   "source": [
    "x = np.array([1,2,3])\n",
    "x =np.append(x,[4])\n",
    "print(x)\n",
    "x = np.insert(x,1,4)\n",
    "print(x)"
   ]
  },
  {
   "cell_type": "code",
   "execution_count": 66,
   "id": "f494e3f7",
   "metadata": {},
   "outputs": [
    {
     "name": "stdout",
     "output_type": "stream",
     "text": [
      "[1 2 3 4]\n",
      "[1 4 2 3 4]\n"
     ]
    }
   ],
   "source": [
    "print(np.delete(x,1))\n",
    "print(x)"
   ]
  },
  {
   "cell_type": "code",
   "execution_count": 69,
   "id": "001d2b42",
   "metadata": {},
   "outputs": [
    {
     "name": "stdout",
     "output_type": "stream",
     "text": [
      "[1 2 3 4 4]\n",
      "[1 4 2 3 4]\n"
     ]
    }
   ],
   "source": [
    "print(np.sort(x))\n",
    "print(x)"
   ]
  },
  {
   "cell_type": "code",
   "execution_count": 74,
   "id": "630c826c",
   "metadata": {},
   "outputs": [
    {
     "name": "stdout",
     "output_type": "stream",
     "text": [
      "[1 4 2 3 4]\n"
     ]
    }
   ],
   "source": [
    "print(x.reshape(5))"
   ]
  },
  {
   "cell_type": "code",
   "execution_count": 79,
   "id": "1fa8bc79",
   "metadata": {},
   "outputs": [
    {
     "name": "stdout",
     "output_type": "stream",
     "text": [
      "[[ 1  2  3  4  5]\n",
      " [ 6  7  8  9 10]\n",
      " [11 12 13 14 15]\n",
      " [16 17 18 19 20]]\n"
     ]
    }
   ],
   "source": [
    "a1 = ([1,2,3,4,5],\n",
    "      [6,7,8,9,10],)\n",
    "a2 = ([11,12,13,14,15],\n",
    "      [16,17,18,19,20],)\n",
    "a=np.concatenate((a1,a2),axis=0)\n",
    "print(a)\n"
   ]
  },
  {
   "cell_type": "code",
   "execution_count": 80,
   "id": "043ed593",
   "metadata": {},
   "outputs": [
    {
     "name": "stdout",
     "output_type": "stream",
     "text": [
      "<class 'numpy.ndarray'>\n"
     ]
    }
   ],
   "source": [
    "print(type(a))"
   ]
  },
  {
   "cell_type": "code",
   "execution_count": 81,
   "id": "08db24f8",
   "metadata": {},
   "outputs": [
    {
     "name": "stdout",
     "output_type": "stream",
     "text": [
      "[array([[ 1,  2,  3,  4,  5],\n",
      "       [ 6,  7,  8,  9, 10]]), array([[11, 12, 13, 14, 15],\n",
      "       [16, 17, 18, 19, 20]])]\n"
     ]
    }
   ],
   "source": [
    "print(np.split(a,2,axis=0))"
   ]
  },
  {
   "cell_type": "code",
   "execution_count": 82,
   "id": "5ac5c5d4",
   "metadata": {},
   "outputs": [
    {
     "name": "stdout",
     "output_type": "stream",
     "text": [
      "[array([[1, 2, 3, 4, 5]]), array([[ 6,  7,  8,  9, 10]]), array([[11, 12, 13, 14, 15]]), array([[16, 17, 18, 19, 20]])]\n"
     ]
    }
   ],
   "source": [
    "print(np.split(a,4,axis=0))"
   ]
  },
  {
   "cell_type": "code",
   "execution_count": 83,
   "id": "2e018e13",
   "metadata": {},
   "outputs": [
    {
     "name": "stdout",
     "output_type": "stream",
     "text": [
      "1\n",
      "20\n",
      "10.5\n",
      "210\n",
      "5.766281297335398\n",
      "33.25\n",
      "10.5\n"
     ]
    }
   ],
   "source": [
    "print(a.min())\n",
    "print(a.max())\n",
    "print(a.mean())\n",
    "print(a.sum())\n",
    "print(a.std())\n",
    "print(a.var())\n",
    "print(np.median(a))"
   ]
  },
  {
   "cell_type": "code",
   "execution_count": 105,
   "id": "2efb20a5",
   "metadata": {},
   "outputs": [
    {
     "name": "stdout",
     "output_type": "stream",
     "text": [
      "3397\n"
     ]
    }
   ],
   "source": [
    "print(np.random.randint(99,10001))\n"
   ]
  },
  {
   "cell_type": "code",
   "execution_count": 106,
   "id": "e0079193",
   "metadata": {},
   "outputs": [
    {
     "name": "stdout",
     "output_type": "stream",
     "text": [
      "[[ 1  2  3  4  5]\n",
      " [ 6  7  8  9 10]\n",
      " [11 12 13 14 15]\n",
      " [16 17 18 19 20]]\n"
     ]
    }
   ],
   "source": [
    "print(a)"
   ]
  },
  {
   "cell_type": "code",
   "execution_count": 107,
   "id": "0cba7ce2",
   "metadata": {},
   "outputs": [],
   "source": [
    "np.save('my_array.npy',a)"
   ]
  },
  {
   "cell_type": "code",
   "execution_count": 108,
   "id": "3ccb3aa4",
   "metadata": {},
   "outputs": [
    {
     "data": {
      "text/plain": [
       "array([[ 1,  2,  3,  4,  5],\n",
       "       [ 6,  7,  8,  9, 10],\n",
       "       [11, 12, 13, 14, 15],\n",
       "       [16, 17, 18, 19, 20]])"
      ]
     },
     "execution_count": 108,
     "metadata": {},
     "output_type": "execute_result"
    }
   ],
   "source": [
    "np.load('my_array.npy')"
   ]
  },
  {
   "cell_type": "code",
   "execution_count": 109,
   "id": "baaf99e2",
   "metadata": {},
   "outputs": [],
   "source": [
    "np.savetxt('my_array.csv',a)"
   ]
  },
  {
   "cell_type": "code",
   "execution_count": null,
   "id": "99a55a8e",
   "metadata": {},
   "outputs": [],
   "source": []
  }
 ],
 "metadata": {
  "kernelspec": {
   "display_name": "Python 3",
   "language": "python",
   "name": "python3"
  },
  "language_info": {
   "codemirror_mode": {
    "name": "ipython",
    "version": 3
   },
   "file_extension": ".py",
   "mimetype": "text/x-python",
   "name": "python",
   "nbconvert_exporter": "python",
   "pygments_lexer": "ipython3",
   "version": "3.13.1"
  }
 },
 "nbformat": 4,
 "nbformat_minor": 5
}
